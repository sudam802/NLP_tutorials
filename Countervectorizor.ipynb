{
  "nbformat": 4,
  "nbformat_minor": 0,
  "metadata": {
    "colab": {
      "provenance": [],
      "authorship_tag": "ABX9TyNSSiLe2wihSXnhRekamWdG",
      "include_colab_link": true
    },
    "kernelspec": {
      "name": "python3",
      "display_name": "Python 3"
    },
    "language_info": {
      "name": "python"
    }
  },
  "cells": [
    {
      "cell_type": "markdown",
      "metadata": {
        "id": "view-in-github",
        "colab_type": "text"
      },
      "source": [
        "<a href=\"https://colab.research.google.com/github/sudam802/NLP_tutorials/blob/main/Countervectorizor.ipynb\" target=\"_parent\"><img src=\"https://colab.research.google.com/assets/colab-badge.svg\" alt=\"Open In Colab\"/></a>"
      ]
    },
    {
      "cell_type": "code",
      "execution_count": 27,
      "metadata": {
        "id": "C1b0x6bzbjvC"
      },
      "outputs": [],
      "source": [
        "import numpy as np\n",
        "import pandas as pd"
      ]
    },
    {
      "cell_type": "code",
      "source": [
        "# data\n",
        "documents = [\n",
        "    \"I love machine learning\",\n",
        "    \"Machine learning is fascinating\",\n",
        "    \"I love coding in Python\"\n",
        "]\n"
      ],
      "metadata": {
        "id": "JSybwtBRfrvn"
      },
      "execution_count": 28,
      "outputs": []
    },
    {
      "cell_type": "code",
      "source": [
        "# making the vocabulary\n",
        "words=[word  for sentence in documents  for word in sentence.split()]\n",
        "vocab=set(words)\n",
        "vocab=list(vocab)\n",
        "print(vocab)\n",
        "print(type(vocab))"
      ],
      "metadata": {
        "id": "5Mp64Fo1fyqy",
        "colab": {
          "base_uri": "https://localhost:8080/"
        },
        "outputId": "b2cf028e-9fc9-4db9-fa60-52355b118a10"
      },
      "execution_count": 36,
      "outputs": [
        {
          "output_type": "stream",
          "name": "stdout",
          "text": [
            "['Python', 'machine', 'love', 'in', 'is', 'learning', 'Machine', 'I', 'coding', 'fascinating']\n",
            "<class 'list'>\n"
          ]
        }
      ]
    },
    {
      "cell_type": "code",
      "source": [
        "#  creating the counter vectorizor\n",
        "#  creating an empty array\n",
        "num_words=len(vocab)\n",
        "num_docs=len(documents)\n",
        "vec=np.zeros((num_docs,num_words))\n",
        "print(vec)"
      ],
      "metadata": {
        "colab": {
          "base_uri": "https://localhost:8080/"
        },
        "id": "u2TQU0ZQsgMn",
        "outputId": "dae4d0e8-6926-4a29-b12b-fced65134d92"
      },
      "execution_count": 30,
      "outputs": [
        {
          "output_type": "stream",
          "name": "stdout",
          "text": [
            "[[0. 0. 0. 0. 0. 0. 0. 0. 0. 0.]\n",
            " [0. 0. 0. 0. 0. 0. 0. 0. 0. 0.]\n",
            " [0. 0. 0. 0. 0. 0. 0. 0. 0. 0.]]\n"
          ]
        }
      ]
    },
    {
      "cell_type": "code",
      "source": [
        "for i in enumerate(documents):\n",
        "  for word in i[1].split():\n",
        "    pos=vocab.index(word)\n",
        "    vec[i[0]][pos]=1\n",
        "print(vec)"
      ],
      "metadata": {
        "colab": {
          "base_uri": "https://localhost:8080/"
        },
        "id": "w9WT6dGhueLl",
        "outputId": "0bcd8bd6-66a0-4372-95f7-9a7fd0b0b918"
      },
      "execution_count": 39,
      "outputs": [
        {
          "output_type": "stream",
          "name": "stdout",
          "text": [
            "[[0. 1. 1. 0. 0. 1. 0. 1. 0. 0.]\n",
            " [0. 0. 0. 0. 1. 1. 1. 0. 0. 1.]\n",
            " [1. 0. 1. 1. 0. 0. 0. 1. 1. 0.]]\n"
          ]
        }
      ]
    }
  ]
}