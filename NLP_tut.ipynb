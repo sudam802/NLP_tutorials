{
  "nbformat": 4,
  "nbformat_minor": 0,
  "metadata": {
    "colab": {
      "provenance": [],
      "authorship_tag": "ABX9TyO/FXIChskb8ozg4GURn2ID",
      "include_colab_link": true
    },
    "kernelspec": {
      "name": "python3",
      "display_name": "Python 3"
    },
    "language_info": {
      "name": "python"
    }
  },
  "cells": [
    {
      "cell_type": "markdown",
      "metadata": {
        "id": "view-in-github",
        "colab_type": "text"
      },
      "source": [
        "<a href=\"https://colab.research.google.com/github/sudam802/NLP_tutorials/blob/main/NLP_tut.ipynb\" target=\"_parent\"><img src=\"https://colab.research.google.com/assets/colab-badge.svg\" alt=\"Open In Colab\"/></a>"
      ]
    },
    {
      "cell_type": "code",
      "execution_count": null,
      "metadata": {
        "id": "RPU_OSjyyGnu"
      },
      "outputs": [],
      "source": []
    },
    {
      "cell_type": "code",
      "source": [
        "import numpy as np # linear algebra\n",
        "import pandas as pd # data processing, CSV file I/O (e.g. pd.read_csv)\n",
        "from sklearn import feature_extraction, linear_model, model_selection, preprocessing"
      ],
      "metadata": {
        "id": "i6XLgBvryKJD"
      },
      "execution_count": null,
      "outputs": []
    },
    {
      "cell_type": "code",
      "source": [
        "train_df=pd.read_csv('train.csv')\n",
        "test_df=pd.read_csv('test.csv')\n",
        "print(train_df['text'].values[2])\n",
        "print(train_df.head())"
      ],
      "metadata": {
        "colab": {
          "base_uri": "https://localhost:8080/"
        },
        "id": "_hYrTvNjyfOi",
        "outputId": "b18026b7-1963-4541-97e1-a06056ec1f04",
        "collapsed": true
      },
      "execution_count": null,
      "outputs": [
        {
          "output_type": "stream",
          "name": "stdout",
          "text": [
            "All residents asked to 'shelter in place' are being notified by officers. No other evacuation or shelter in place orders are expected\n",
            "   id keyword location                                               text  \\\n",
            "0   1     NaN      NaN  Our Deeds are the Reason of this #earthquake M...   \n",
            "1   4     NaN      NaN             Forest fire near La Ronge Sask. Canada   \n",
            "2   5     NaN      NaN  All residents asked to 'shelter in place' are ...   \n",
            "3   6     NaN      NaN  13,000 people receive #wildfires evacuation or...   \n",
            "4   7     NaN      NaN  Just got sent this photo from Ruby #Alaska as ...   \n",
            "\n",
            "   target  \n",
            "0       1  \n",
            "1       1  \n",
            "2       1  \n",
            "3       1  \n",
            "4       1  \n"
          ]
        }
      ]
    },
    {
      "cell_type": "code",
      "source": [
        "# removing the articles\n",
        "import re\n",
        "\n",
        "def remove_articles(text):\n",
        "    # Regular expression to remove the articles \"a\", \"an\", and \"the\"\n",
        "    return re.sub(r'\\b(a|an|the)\\b', '', text, flags=re.IGNORECASE).strip()\n"
      ],
      "metadata": {
        "id": "7iVhzKo4nVkZ"
      },
      "execution_count": null,
      "outputs": []
    },
    {
      "cell_type": "code",
      "source": [
        "train_df['text'] = train_df['text'].apply(remove_articles)"
      ],
      "metadata": {
        "id": "l73LiMY3nUiw"
      },
      "execution_count": null,
      "outputs": []
    },
    {
      "cell_type": "code",
      "source": [
        "train_df[train_df[\"target\"] == 1][\"text\"]"
      ],
      "metadata": {
        "id": "vssYeiYB1CGJ",
        "collapsed": true
      },
      "execution_count": null,
      "outputs": []
    },
    {
      "cell_type": "markdown",
      "source": [],
      "metadata": {
        "id": "l-4WnH-LXYUL"
      }
    },
    {
      "cell_type": "markdown",
      "source": [
        "Us"
      ],
      "metadata": {
        "id": "rQ3cmJX6XYqb"
      }
    },
    {
      "cell_type": "code",
      "source": [
        "# counting each tweet\n",
        "count_vectorizer = feature_extraction.text.CountVectorizer()\n",
        "counted_tweet=count_vectorizer.fit_transform(train_df[\"text\"][0:1])\n",
        "print(counted_tweet.shape)\n",
        "print(counted_tweet)\n",
        "print(train_df['text'].values[0])"
      ],
      "metadata": {
        "id": "H_4sJzZE7Lcv",
        "collapsed": true
      },
      "execution_count": null,
      "outputs": []
    },
    {
      "cell_type": "code",
      "source": [
        "test_vector=count_vectorizer.transform(test_df[\"text\"])"
      ],
      "metadata": {
        "id": "MWLMpYCpiKme"
      },
      "execution_count": null,
      "outputs": []
    },
    {
      "cell_type": "markdown",
      "source": [
        "todense => makes unique words list\n"
      ],
      "metadata": {
        "id": "l_K_DbJiXewI"
      }
    },
    {
      "cell_type": "code",
      "source": [
        "print(counted_tweet[0].todense().shape)\n",
        "print((counted_tweet[0].todense()==1).sum())"
      ],
      "metadata": {
        "colab": {
          "base_uri": "https://localhost:8080/"
        },
        "id": "krPOxH-zLT3h",
        "outputId": "41619a47-9fcf-43b2-eb1f-47a7af928020"
      },
      "execution_count": null,
      "outputs": [
        {
          "output_type": "stream",
          "name": "stdout",
          "text": [
            "(1, 12)\n",
            "12\n"
          ]
        }
      ]
    },
    {
      "cell_type": "code",
      "source": [
        "# creating a vector of all the tweeets\n",
        "all_tweets_train=count_vectorizer.fit_transform(train_df[\"text\"])\n",
        "all_tweets_test=count_vectorizer.transform(test_df[\"text\"])\n"
      ],
      "metadata": {
        "id": "AjR5Mrk_Xnlo"
      },
      "execution_count": null,
      "outputs": []
    },
    {
      "cell_type": "markdown",
      "source": [
        "Model Development\n",
        "\n"
      ],
      "metadata": {
        "id": "gLbOE83CYoI6"
      }
    },
    {
      "cell_type": "code",
      "source": [
        "model=linear_model.RidgeClassifier()\n",
        "score=model_selection.cross_val_score(model,all_tweets_train,train_df['target'], cv=3, scoring=\"f1\")\n",
        "score"
      ],
      "metadata": {
        "colab": {
          "base_uri": "https://localhost:8080/"
        },
        "id": "jrexZ-HAYnRc",
        "outputId": "031afaf1-4b4e-4dcb-c95f-fcf85dcda69f"
      },
      "execution_count": null,
      "outputs": [
        {
          "output_type": "execute_result",
          "data": {
            "text/plain": [
              "array([0.59497057, 0.56526006, 0.6412139 ])"
            ]
          },
          "metadata": {},
          "execution_count": 122
        }
      ]
    },
    {
      "cell_type": "code",
      "source": [
        "model.fit(all_tweets_train,train_df['target'])\n",
        "print(model.predict(all_tweets_test))"
      ],
      "metadata": {
        "colab": {
          "base_uri": "https://localhost:8080/"
        },
        "id": "EbbfrevFk8pn",
        "outputId": "01586cd0-f237-4ff3-9dbb-e2bb0492fafb"
      },
      "execution_count": null,
      "outputs": [
        {
          "output_type": "stream",
          "name": "stdout",
          "text": [
            "[0 1 1 ... 1 1 0]\n"
          ]
        }
      ]
    },
    {
      "cell_type": "code",
      "source": [
        "print(train_df['text'].values[0])"
      ],
      "metadata": {
        "colab": {
          "base_uri": "https://localhost:8080/"
        },
        "id": "PSV7hbqMn1fn",
        "outputId": "613c7e25-4b1f-4593-ef7c-4503bfb05c80"
      },
      "execution_count": null,
      "outputs": [
        {
          "output_type": "stream",
          "name": "stdout",
          "text": [
            "Our Deeds are the Reason of this #earthquake May ALLAH Forgive us all\n"
          ]
        }
      ]
    },
    {
      "cell_type": "code",
      "source": [],
      "metadata": {
        "id": "4LQCRTOPpA6d"
      },
      "execution_count": null,
      "outputs": []
    }
  ]
}